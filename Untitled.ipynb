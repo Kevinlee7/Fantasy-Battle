{
 "cells": [
  {
   "cell_type": "code",
   "execution_count": 41,
   "id": "f869ddd2-3d62-4bc7-9dc7-e7d13d1edf6f",
   "metadata": {},
   "outputs": [
    {
     "name": "stdout",
     "output_type": "stream",
     "text": [
      "Name: openai\n",
      "Version: 1.76.0\n",
      "Summary: The official Python library for the openai API\n",
      "Home-page: https://github.com/openai/openai-python\n",
      "Author: \n",
      "Author-email: OpenAI <support@openai.com>\n",
      "License: Apache-2.0\n",
      "Location: D:\\anaconda3\\Lib\\site-packages\n",
      "Requires: anyio, distro, httpx, jiter, pydantic, sniffio, tqdm, typing-extensions\n",
      "Required-by: langchain-openai\n"
     ]
    }
   ],
   "source": [
    "!pip show openai\n"
   ]
  },
  {
   "cell_type": "code",
   "execution_count": 24,
   "id": "6d08c0d9-aa52-46c7-a461-88637b2e73b1",
   "metadata": {},
   "outputs": [],
   "source": [
    "with open('open_ai_key.txt', 'r', encoding='utf-8') as file:\n",
    "    openai_key = file.readline().strip()"
   ]
  },
  {
   "cell_type": "code",
   "execution_count": 26,
   "id": "1bd36e92-5deb-42a5-88c7-9ecfb7307bd1",
   "metadata": {},
   "outputs": [
    {
     "name": "stdout",
     "output_type": "stream",
     "text": [
      "Hi there! How can I assist you today?\n"
     ]
    }
   ],
   "source": [
    "import openai\n",
    "\n",
    "client = openai.OpenAI(api_key=openai_key)\n",
    "\n",
    "response = client.chat.completions.create(\n",
    "    model=\"gpt-4\",\n",
    "    messages=[\n",
    "        {\"role\": \"user\", \"content\": \"Hello!\"}\n",
    "    ]\n",
    ")\n",
    "\n",
    "print(response.choices[0].message.content)\n"
   ]
  },
  {
   "cell_type": "code",
   "execution_count": 28,
   "id": "4ad9a42a-ae2a-41a3-96a3-26341bc018aa",
   "metadata": {},
   "outputs": [],
   "source": [
    "def generate_card_from_description(description):\n",
    "    prompt = f\"\"\"\n",
    "    I will provide a creative character description. Please generate a detailed character card based on the description with the following attributes:\n",
    "    \n",
    "    - Name (based on description)\n",
    "    - Appearance (a vivid description of how the character looks: clothing, body features, aura, etc.)\n",
    "    - HP (between 6-15, based on toughness or resilience)\n",
    "    - Attack (1-6, based on offensive capability)\n",
    "    - Defense (1-6, based on defensive strength)\n",
    "    - Energy or Magic (1-6, based on power or skill usage)\n",
    "\n",
    "    Character Description:\n",
    "    \"{description}\"\n",
    "    \n",
    "    Output format:\n",
    "    \n",
    "    Name: \n",
    "    Appearance:\n",
    "    HP:\n",
    "    Attack:\n",
    "    Defense:\n",
    "    Energy:\n",
    "    \"\"\"\n",
    "\n",
    "    response = client.responses.create(\n",
    "        model=\"gpt-3.5-turbo\",\n",
    "        input=prompt,\n",
    "        temperature=0.7\n",
    "    )\n",
    "    return response.output_text\n"
   ]
  },
  {
   "cell_type": "code",
   "execution_count": 32,
   "id": "d76b4766-0e8c-4449-9d47-d420e908f891",
   "metadata": {},
   "outputs": [],
   "source": [
    "test = \"I summoned a husky dog of woshingtonm, he has a firegun\"\n",
    "output = generate_card_from_description(test)"
   ]
  },
  {
   "cell_type": "code",
   "execution_count": 38,
   "id": "e75a4a75-d03d-4fc9-a697-72de55f5e0d9",
   "metadata": {},
   "outputs": [
    {
     "name": "stdout",
     "output_type": "stream",
     "text": [
      "{'Name': 'Blaze', 'Appearance': 'Blaze is a majestic husky with a thick fur coat in shades of black and silver, giving off an aura of strength and loyalty. His piercing blue eyes seem to hold a spark of intelligence and determination. Around his neck, there is a collar adorned with intricate symbols that seem to glow faintly. Blaze carries a sleek and mysterious firegun, crafted with intricate designs and emitting a faint warmth.', 'HP': '10', 'Attack': '4', 'Defense': '3', 'Energy': '5'}\n"
     ]
    }
   ],
   "source": [
    "lines = output.strip().split(\"\\n\\n\")\n",
    "\n",
    "data_A = {}\n",
    "for line in lines:\n",
    "    if \":\" in line:\n",
    "        key, value = line.split(\":\", 1)\n",
    "        data_A [key.strip()] = value.strip()\n",
    "        \n",
    "print(data_A)\n"
   ]
  },
  {
   "cell_type": "code",
   "execution_count": 40,
   "id": "4734443e-6af1-4693-b6e9-fd667c1f173c",
   "metadata": {},
   "outputs": [],
   "source": [
    "test = \"I summoned a tank, king of war!\"\n",
    "output = generate_card_from_description(test)"
   ]
  },
  {
   "cell_type": "code",
   "execution_count": 42,
   "id": "934ab4f0-8a96-45b6-8b5d-46cd8428eb9a",
   "metadata": {},
   "outputs": [
    {
     "name": "stdout",
     "output_type": "stream",
     "text": [
      "{'Name': 'Tankar the Warlord', 'Appearance': 'Tankar is a towering figure clad in thick, reinforced armor that gleams with an otherworldly sheen. His armor is adorned with intricate engravings of ancient battles, and his helmet features intimidating horns that strike fear into the hearts of his enemies. Despite his imposing presence, Tankar moves with surprising agility, his movements fluid and precise. His eyes burn with a fierce determination, and his aura exudes an aura of unyielding strength.', 'HP': '12', 'Attack': '5', 'Defense': '6', 'Energy': '3'}\n"
     ]
    }
   ],
   "source": [
    "lines = output.strip().split(\"\\n\\n\")\n",
    "\n",
    "data_B = {}\n",
    "for line in lines:\n",
    "    if \":\" in line:\n",
    "        key, value = line.split(\":\", 1)\n",
    "        data_B [key.strip()] = value.strip()\n",
    "        \n",
    "print(data_B)"
   ]
  },
  {
   "cell_type": "markdown",
   "id": "dda7cfb3-057a-4872-8d81-5a5b1ec18818",
   "metadata": {},
   "source": [
    "### ROUND_1"
   ]
  },
  {
   "cell_type": "code",
   "execution_count": 50,
   "id": "cbd17ac8-cf88-4445-a7c0-82a0305c0e71",
   "metadata": {},
   "outputs": [],
   "source": [
    "def judge_battle(player_a_action, player_b_action, player_a_card, player_b_card):\n",
    "    prompt = f\"\"\"\n",
    "    You are the battle judge in a fantasy combat game. Two players have unique character cards and describe their actions using natural language. Based on their character stats and their described actions, you will decide:\n",
    "    \n",
    "    1. The outcome of each action (damage, defense, energy use).\n",
    "    2. The changes to HP or any status effects (e.g., weakened, increased attack or defense).\n",
    "    3. Which visual effect is most appropriate for each action:\n",
    "       - \"Attack\" for offensive actions,\n",
    "       - \"Shield\" for defensive actions,\n",
    "       - \"Weak\" for actions that weaken or debuff the opponent.\n",
    "    \n",
    "    Consider the character stats when determining the effectiveness of their actions. Players with higher attack stats deal more damage, those with higher defense can block more effectively, and energy is consumed for special abilities.\n",
    "    \n",
    "    ### Player A Character:\n",
    "    Name: {player_a_card['Name']}\n",
    "    HP: {player_a_card['HP']}\n",
    "    Attack: {player_a_card['Attack']}\n",
    "    Defense: {player_a_card['Defense']}\n",
    "    Energy: {player_a_card['Energy']}\n",
    "    Special Abilities: {', '.join(player_a_card.get('Special Abilities', [])) if isinstance(player_a_card.get('Special Abilities', []), list) else 'N/A'}\n",
    "    \n",
    "    ### Player B Character:\n",
    "    Name: {player_b_card['Name']}\n",
    "    HP: {player_b_card['HP']}\n",
    "    Attack: {player_b_card['Attack']}\n",
    "    Defense: {player_b_card['Defense']}\n",
    "    Energy: {player_b_card['Energy']}\n",
    "    Special Abilities: {', '.join(player_b_card.get('Special Abilities', [])) if isinstance(player_b_card.get('Special Abilities', []), list) else 'N/A'}\n",
    "    \n",
    "    ### Actions this turn:\n",
    "    - Player A Action: \"{player_a_action}\"\n",
    "    - Player B Action: \"{player_b_action}\"\n",
    "    \n",
    "    ### Instructions for Judgement:\n",
    "    1. Consider the described actions AND the character stats.\n",
    "    2. Output HP changes, and if relevant, small changes to Attack/Defense/Energy (optional, only if reasonable).\n",
    "    3. Assign one visual effect for each player (Attack, Shield, or Weak) based on what fits best.\n",
    "    \n",
    "    ### Output Format:\n",
    "    \n",
    "    Outcome:\n",
    "    - Player A: [Result], Visual Effect: [Attack/Shield/Weak], Any changes to Attack/Defense/Energy: [if any]\n",
    "    - Player B: [Result], Visual Effect: [Attack/Shield/Weak], Any changes to Attack/Defense/Energy: [if any]\n",
    "    \n",
    "    Updated Stats:\n",
    "    - Player A HP: \n",
    "    - Player B HP: \n",
    "    \"\"\"\n",
    "\n",
    "    response = client.chat.completions.create(  # 用标准API\n",
    "        model=\"gpt-3.5-turbo\",\n",
    "        messages=[{\"role\": \"user\", \"content\": prompt}],\n",
    "        temperature=0.7\n",
    "    )\n",
    "    \n",
    "    return response.choices[0].message.content\n"
   ]
  },
  {
   "cell_type": "code",
   "execution_count": 58,
   "id": "915a2491-4abf-4145-a94e-4042c604439e",
   "metadata": {},
   "outputs": [],
   "source": [
    "player_a_card = data_A\n",
    "player_b_card = data_B\n",
    "player_a_action = \"Sprint over and bite him.\"\n",
    "player_b_action = \"electromagnetic cannon.\"\n",
    "\n",
    "output = judge_battle(player_a_action, player_b_action, player_a_card, player_b_card)"
   ]
  },
  {
   "cell_type": "code",
   "execution_count": 60,
   "id": "32d36d31-199f-4340-982a-ddd916b5aef4",
   "metadata": {},
   "outputs": [
    {
     "data": {
      "text/plain": [
       "'Outcome:\\n- Player A: Damage 5, Visual Effect: Attack\\n- Player B: Damage 4, Visual Effect: Attack\\n\\nUpdated Stats:\\n- Player A HP: 10\\n- Player B HP: 7'"
      ]
     },
     "execution_count": 60,
     "metadata": {},
     "output_type": "execute_result"
    }
   ],
   "source": [
    "output"
   ]
  },
  {
   "cell_type": "code",
   "execution_count": 62,
   "id": "5fa2332c-50c4-429c-b83c-7e895fd06ed4",
   "metadata": {},
   "outputs": [],
   "source": [
    "import re\n",
    "\n",
    "def update_player_stats_from_gpt_output(gpt_output, player_a_card, player_b_card):\n",
    "    # 使用正则提取 HP\n",
    "    hp_pattern = r\"Updated Stats:\\s*- Player A HP: (\\d+)\\s*- Player B HP: (\\d+)\"\n",
    "    match = re.search(hp_pattern, gpt_output)\n",
    "\n",
    "    if match:\n",
    "        new_hp_a = match.group(1)\n",
    "        new_hp_b = match.group(2)\n",
    "\n",
    "        player_a_card['HP'] = new_hp_a\n",
    "        player_b_card['HP'] = new_hp_b\n",
    "\n",
    "    # 可选：提取 Attack/Defense/Energy 的变化\n",
    "    # 简单示例：检查 Outcome 是否提到某项变化\n",
    "    attack_change_pattern = r\"Player A: .*?Any changes.*?Attack.*?(\\+|-)\\d+\"\n",
    "    defense_change_pattern = r\"Player A: .*?Any changes.*?Defense.*?(\\+|-)\\d+\"\n",
    "    # 你可以根据需要扩展这个部分\n",
    "\n",
    "    return player_a_card, player_b_card"
   ]
  },
  {
   "cell_type": "code",
   "execution_count": 64,
   "id": "26ed4dfa-e7fb-4400-98b4-dc9eeae20078",
   "metadata": {},
   "outputs": [
    {
     "data": {
      "text/plain": [
       "({'Name': 'Blaze',\n",
       "  'Appearance': 'Blaze is a majestic husky with a thick fur coat in shades of black and silver, giving off an aura of strength and loyalty. His piercing blue eyes seem to hold a spark of intelligence and determination. Around his neck, there is a collar adorned with intricate symbols that seem to glow faintly. Blaze carries a sleek and mysterious firegun, crafted with intricate designs and emitting a faint warmth.',\n",
       "  'HP': '10',\n",
       "  'Attack': '4',\n",
       "  'Defense': '3',\n",
       "  'Energy': '5'},\n",
       " {'Name': 'Tankar the Warlord',\n",
       "  'Appearance': 'Tankar is a towering figure clad in thick, reinforced armor that gleams with an otherworldly sheen. His armor is adorned with intricate engravings of ancient battles, and his helmet features intimidating horns that strike fear into the hearts of his enemies. Despite his imposing presence, Tankar moves with surprising agility, his movements fluid and precise. His eyes burn with a fierce determination, and his aura exudes an aura of unyielding strength.',\n",
       "  'HP': '12',\n",
       "  'Attack': '5',\n",
       "  'Defense': '6',\n",
       "  'Energy': '3'})"
      ]
     },
     "execution_count": 64,
     "metadata": {},
     "output_type": "execute_result"
    }
   ],
   "source": [
    "player_a_card, player_b_card"
   ]
  },
  {
   "cell_type": "code",
   "execution_count": 68,
   "id": "403d8200-847a-481c-b146-16507b6cd28b",
   "metadata": {},
   "outputs": [
    {
     "data": {
      "text/plain": [
       "({'Name': 'Blaze',\n",
       "  'Appearance': 'Blaze is a majestic husky with a thick fur coat in shades of black and silver, giving off an aura of strength and loyalty. His piercing blue eyes seem to hold a spark of intelligence and determination. Around his neck, there is a collar adorned with intricate symbols that seem to glow faintly. Blaze carries a sleek and mysterious firegun, crafted with intricate designs and emitting a faint warmth.',\n",
       "  'HP': '10',\n",
       "  'Attack': '4',\n",
       "  'Defense': '3',\n",
       "  'Energy': '5'},\n",
       " {'Name': 'Tankar the Warlord',\n",
       "  'Appearance': 'Tankar is a towering figure clad in thick, reinforced armor that gleams with an otherworldly sheen. His armor is adorned with intricate engravings of ancient battles, and his helmet features intimidating horns that strike fear into the hearts of his enemies. Despite his imposing presence, Tankar moves with surprising agility, his movements fluid and precise. His eyes burn with a fierce determination, and his aura exudes an aura of unyielding strength.',\n",
       "  'HP': '7',\n",
       "  'Attack': '5',\n",
       "  'Defense': '6',\n",
       "  'Energy': '3'})"
      ]
     },
     "execution_count": 68,
     "metadata": {},
     "output_type": "execute_result"
    }
   ],
   "source": [
    "update_player_stats_from_gpt_output(output, player_a_card, player_b_card)"
   ]
  },
  {
   "cell_type": "markdown",
   "id": "48c50a72-009e-493a-8641-58119ed61e0a",
   "metadata": {},
   "source": [
    "### FINNAL_ROUND"
   ]
  },
  {
   "cell_type": "code",
   "execution_count": 71,
   "id": "87512c5a-ceaf-4f2c-bece-e89f93a305ac",
   "metadata": {},
   "outputs": [],
   "source": [
    "def judge_final_round(player_a_ultimate_action, player_b_ultimate_action, player_a_card, player_b_card):\n",
    "    prompt = f\"\"\"\n",
    "    This is the FINAL ROUND (Ultimate Round) of a fantasy combat game. Each player will use their most powerful ultimate skill. HP does not matter in this round. Based on their ultimate actions and their character stats, you will decide:\n",
    "\n",
    "    1. Which player wins the final round based on the strength, creativity, and effectiveness of their ultimate action.\n",
    "    2. Assign a visual effect to each action:\n",
    "       - \"Attack\" for destructive ultimates,\n",
    "       - \"Shield\" for defensive ultimates,\n",
    "       - \"Weak\" for ultimates that severely debuff or overwhelm the opponent.\n",
    "    3. Provide a brief cinematic description of what happened during the final clash.\n",
    "\n",
    "    ### Player A Character:\n",
    "    Name: {player_a_card['Name']}\n",
    "    Attack: {player_a_card['Attack']}\n",
    "    Defense: {player_a_card['Defense']}\n",
    "    Energy: {player_a_card['Energy']}\n",
    "    Ultimate Ability: {player_a_card.get('Ultimate Ability', 'N/A')}\n",
    "\n",
    "    ### Player B Character:\n",
    "    Name: {player_b_card['Name']}\n",
    "    Attack: {player_b_card['Attack']}\n",
    "    Defense: {player_b_card['Defense']}\n",
    "    Energy: {player_b_card['Energy']}\n",
    "    Ultimate Ability: {player_b_card.get('Ultimate Ability', 'N/A')}\n",
    "\n",
    "    ### Final Actions:\n",
    "    - Player A Ultimate: \"{player_a_ultimate_action}\"\n",
    "    - Player B Ultimate: \"{player_b_ultimate_action}\"\n",
    "\n",
    "    ### Output Format:\n",
    "\n",
    "    Final Outcome:\n",
    "    - Player A: Visual Effect: [Attack/Shield/Weak]\n",
    "    - Player B: Visual Effect: [Attack/Shield/Weak]\n",
    "\n",
    "    Cinematic Description:\n",
    "    [What happened in this epic final round...]\n",
    "\n",
    "    Winner: [Player A / Player B]\n",
    "    \"\"\"\n",
    "\n",
    "    response = client.chat.completions.create(\n",
    "        model=\"gpt-3.5-turbo\",\n",
    "        messages=[{\"role\": \"user\", \"content\": prompt}],\n",
    "        temperature=0.7\n",
    "    )\n",
    "\n",
    "    return response.choices[0].message.content\n"
   ]
  },
  {
   "cell_type": "code",
   "execution_count": 73,
   "id": "4de22f84-6b6d-4d54-9911-23d2083de284",
   "metadata": {},
   "outputs": [],
   "source": [
    "output = judge_final_round(player_a_action, player_b_action, player_a_card, player_b_card)"
   ]
  },
  {
   "cell_type": "code",
   "execution_count": 75,
   "id": "c2191e93-0ad2-4978-8c99-c6bc7a093e4d",
   "metadata": {},
   "outputs": [
    {
     "data": {
      "text/plain": [
       "\"Final Outcome:\\n- Player A: Visual Effect: Attack\\n- Player B: Visual Effect: Attack\\n\\nCinematic Description:\\nIn a final clash of power, Blaze sprinted towards Tankar the Warlord with incredible speed, closing the distance in an instant. With a swift move, Blaze sank his sharp teeth into Tankar's armor, delivering a devastating bite that caused Tankar to stagger back.\\n\\nWinner: Player A\""
      ]
     },
     "execution_count": 75,
     "metadata": {},
     "output_type": "execute_result"
    }
   ],
   "source": [
    "output"
   ]
  },
  {
   "cell_type": "code",
   "execution_count": 79,
   "id": "c7660637-977c-4bae-9575-f38a00b39520",
   "metadata": {},
   "outputs": [],
   "source": [
    "import re\n",
    "\n",
    "def parse_final_outcome(gpt_output):\n",
    "    result = {}\n",
    "\n",
    "    # Extract Visual Effects\n",
    "    visual_effect_pattern = r\"Final Outcome:\\n- Player A: Visual Effect: (\\w+)\\n- Player B: Visual Effect: (\\w+)\"\n",
    "    visual_match = re.search(visual_effect_pattern, gpt_output)\n",
    "    if visual_match:\n",
    "        result[\"Player A\"] = {\"Visual Effect\": visual_match.group(1)}\n",
    "        result[\"Player B\"] = {\"Visual Effect\": visual_match.group(2)}\n",
    "\n",
    "    # Extract Cinematic Description\n",
    "    cinematic_pattern = r\"Cinematic Description:\\n(.*?)\\n\\nWinner:\"\n",
    "    cinematic_match = re.search(cinematic_pattern, gpt_output, re.DOTALL)\n",
    "    if cinematic_match:\n",
    "        result[\"Cinematic Description\"] = cinematic_match.group(1).strip()\n",
    "\n",
    "    # Extract Winner\n",
    "    winner_pattern = r\"Winner: (Player A|Player B)\"\n",
    "    winner_match = re.search(winner_pattern, gpt_output)\n",
    "    if winner_match:\n",
    "        result[\"Winner\"] = winner_match.group(1)\n",
    "\n",
    "    return result\n"
   ]
  },
  {
   "cell_type": "code",
   "execution_count": 83,
   "id": "4fd685d9-4641-4b0f-8f7a-3f2a2d2455e2",
   "metadata": {},
   "outputs": [
    {
     "data": {
      "text/plain": [
       "{'Player A': {'Visual Effect': 'Attack'},\n",
       " 'Player B': {'Visual Effect': 'Attack'},\n",
       " 'Cinematic Description': \"In a final clash of power, Blaze sprinted towards Tankar the Warlord with incredible speed, closing the distance in an instant. With a swift move, Blaze sank his sharp teeth into Tankar's armor, delivering a devastating bite that caused Tankar to stagger back.\",\n",
       " 'Winner': 'Player A'}"
      ]
     },
     "execution_count": 83,
     "metadata": {},
     "output_type": "execute_result"
    }
   ],
   "source": [
    "parse_final_outcome(output)"
   ]
  },
  {
   "cell_type": "code",
   "execution_count": null,
   "id": "3f244f3f-99fd-41d9-bbd8-ad3107edee4d",
   "metadata": {},
   "outputs": [],
   "source": []
  }
 ],
 "metadata": {
  "kernelspec": {
   "display_name": "Python 3 (ipykernel)",
   "language": "python",
   "name": "python3"
  },
  "language_info": {
   "codemirror_mode": {
    "name": "ipython",
    "version": 3
   },
   "file_extension": ".py",
   "mimetype": "text/x-python",
   "name": "python",
   "nbconvert_exporter": "python",
   "pygments_lexer": "ipython3",
   "version": "3.12.3"
  }
 },
 "nbformat": 4,
 "nbformat_minor": 5
}
